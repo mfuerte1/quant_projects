{
 "cells": [
  {
   "cell_type": "markdown",
   "id": "6d5c7a15",
   "metadata": {},
   "source": [
    "# Detection from Thetadata (Trade Data)"
   ]
  },
  {
   "cell_type": "markdown",
   "id": "a9d79262",
   "metadata": {},
   "source": [
    "This notebook uses historical options data from ThetaData to develop the Bulk Volume Classification (BVC) algorithm, which identifies information-based trading activity and infers trade aggressors."
   ]
  },
  {
   "cell_type": "code",
   "execution_count": 2,
   "id": "b37666d8",
   "metadata": {},
   "outputs": [
    {
     "ename": "ModuleNotFoundError",
     "evalue": "No module named 'thetadata'",
     "output_type": "error",
     "traceback": [
      "\u001b[0;31m---------------------------------------------------------------------------\u001b[0m",
      "\u001b[0;31mModuleNotFoundError\u001b[0m                       Traceback (most recent call last)",
      "Cell \u001b[0;32mIn[2], line 9\u001b[0m\n\u001b[1;32m      7\u001b[0m \u001b[38;5;28;01mimport\u001b[39;00m \u001b[38;5;21;01mmatplotlib\u001b[39;00m\u001b[38;5;21;01m.\u001b[39;00m\u001b[38;5;21;01mpyplot\u001b[39;00m \u001b[38;5;28;01mas\u001b[39;00m \u001b[38;5;21;01mplt\u001b[39;00m\n\u001b[1;32m      8\u001b[0m \u001b[38;5;28;01mfrom\u001b[39;00m \u001b[38;5;21;01mdatetime\u001b[39;00m \u001b[38;5;28;01mimport\u001b[39;00m timedelta, datetime, date\n\u001b[0;32m----> 9\u001b[0m \u001b[38;5;28;01mfrom\u001b[39;00m \u001b[38;5;21;01mthetadata\u001b[39;00m \u001b[38;5;28;01mimport\u001b[39;00m ThetaClient, OptionReqType, OptionRight, StockReqType, DateRange, DataType, TradeCondition, Exchange\n",
      "\u001b[0;31mModuleNotFoundError\u001b[0m: No module named 'thetadata'"
     ]
    }
   ],
   "source": [
    "import os\n",
    "import time\n",
    "import pickle\n",
    "import random\n",
    "import numpy as np\n",
    "import pandas as pd\n",
    "import matplotlib.pyplot as plt\n",
    "from datetime import timedelta, datetime, date\n",
    "from thetadata import ThetaClient, OptionReqType, OptionRight, StockReqType, DateRange, DataType, TradeCondition, Exchange"
   ]
  },
  {
   "cell_type": "markdown",
   "metadata": {},
   "source": [
    "# Detection from Thetadata (Trade Data)"
   ]
  },
  {
   "cell_type": "markdown",
   "metadata": {},
   "source": [
    "This notebook uses historical options data from ThetaData to develop the Bulk Volume Classification (BVC) algorithm, which identifies information-based trading activity and infers trade aggressors."
   ]
  },
  {
   "cell_type": "code",
   "execution_count": null,
   "metadata": {},
   "outputs": [
    {
     "ename": "ModuleNotFoundError",
     "evalue": "No module named 'thetadata'",
     "output_type": "error",
     "traceback": [
      "\u001b[0;31m---------------------------------------------------------------------------\u001b[0m\n",
      "\u001b[0;31mModuleNotFoundError\u001b[0m                       Traceback (most recent call last)\n",
      "Cell \u001b[0;32mIn[2], line 9\u001b[0m\n",
      "\u001b[1;32m      7\u001b[0m \u001b[38;5;28;01mimport\u001b[39;00m \u001b[38;5;21;01mmatplotlib\u001b[39;00m\u001b[38;5;21;01m.\u001b[39;00m\u001b[38;5;21;01mpyplot\u001b[39;00m \u001b[38;5;28;01mas\u001b[39;00m \u001b[38;5;21;01mplt\u001b[39;00m\n",
      "\u001b[1;32m      8\u001b[0m \u001b[38;5;28;01mfrom\u001b[39;00m \u001b[38;5;21;01mdatetime\u001b[39;00m \u001b[38;5;28;01mimport\u001b[39;00m timedelta, datetime, date\n",
      "\u001b[0;32m----> 9\u001b[0m \u001b[38;5;28;01mfrom\u001b[39;00m \u001b[38;5;21;01mthetadata\u001b[39;00m \u001b[38;5;28;01mimport\u001b[39;00m ThetaClient, OptionReqType, OptionRight, StockReqType, DateRange, DataType, TradeCondition, Exchange\n",
      "\n",
      "\u001b[0;31mModuleNotFoundError\u001b[0m: No module named 'thetadata'"
     ]
    }
   ],
   "source": [
    "import os\n",
    "import time\n",
    "import pickle\n",
    "import random\n",
    "import numpy as np\n",
    "import pandas as pd\n",
    "import matplotlib.pyplot as plt\n",
    "from datetime import timedelta, datetime, date\n",
    "from thetadata import ThetaClient, OptionReqType, OptionRight, StockReqType, DateRange, DataType, TradeCondition, Exchange"
   ]
  },
  {
   "cell_type": "markdown",
   "metadata": {},
   "source": [
    "### Function to Get Expirations"
   ]
  },
  {
   "cell_type": "code",
   "execution_count": null,
   "metadata": {},
   "outputs": [],
   "source": [
    "def get_expirations(ticker) -> pd.DataFrame:\n",
    "    \"\"\"Request expirations dates from a some of the options root\"\"\"\n",
    "    client = ThetaClient(username=os.environ['thetadata_username'], passwd=os.environ['thetadata_password'], jvm_mem=4, timeout=15)\n",
    "    with client.connect():\n",
    "        data = client.get_expirations(root=ticker)\n",
    "    return data"
   ]
  },
  {
   "cell_type": "markdown",
   "metadata": {},
   "source": [
    "### Function to Get Strikes"
   ]
  },
  {
   "cell_type": "code",
   "execution_count": null,
   "metadata": {},
   "outputs": [],
   "source": [
    "def get_strikes(ticker, expiration_dates) -> dict:\n",
    "    \"\"\"Request strikes prices from a some of the option contract\"\"\"\n",
    "    client = ThetaClient(username=os.environ['thetadata_username'], passwd=os.environ['thetadata_password'], jvm_mem=4, timeout=15)\n",
    "    all_strikes = {}\n",
    "    with client.connect():\n",
    "        for exp_date in expiration_dates:\n",
    "            data = client.get_strikes(root=ticker, exp=exp_date)\n",
    "            all_strikes[exp_date] = pd.to_numeric(data)\n",
    "    return all_strikes"
   ]
  },
  {
   "cell_type": "markdown",
   "metadata": {},
   "source": [
    "### Function to Get Option Trades"
   ]
  },
  {
   "cell_type": "code",
   "execution_count": null,
   "metadata": {},
   "outputs": [],
   "source": [
    "def get_option_trades(ticker, exp_date, strikes, start_date, end_date, interval_size=0, opt_type=OptionRight.CALL) -> pd.DataFrame:\n",
    "    \"\"\"Request trades for some of the contract's across a multiple of the strikes\"\"\"\n",
    "    client = ThetaClient(username=os.environ['thetadata_username'], passwd=os.environ['thetadata_password'], jvm_mem=12, timeout=30)\n",
    "    datas = {}\n",
    "    with client.connect():\n",
    "        for strike in strikes:\n",
    "            try:\n",
    "                data = client.get_hist_option(\n",
    "                    req=OptionReqType.TRADE_QUOTE,\n",
    "                    root=ticker,\n",
    "                    exp=exp_date,\n",
    "                    strike=strike,\n",
    "                    right=opt_type,\n",
    "                    date_range=DateRange(start_date, end_date),\n",
    "                    progress_bar=False,\n",
    "                    interval_size=interval_size\n",
    "                )\n",
    "                datas[strike] = data\n",
    "            except Exception as e:\n",
    "                datas[strike] = np.nan\n",
    "                print(e)\n",
    "    return datas"
   ]
  },
  {
   "cell_type": "markdown",
   "metadata": {},
   "source": [
    "### Function to Process Trade Data"
   ]
  },
  {
   "cell_type": "code",
   "execution_count": null,
   "metadata": {},
   "outputs": [],
   "source": [
    "def process_trade_data(trades_df):\n",
    "    \"\"\"Preprocess the thetadata to have columns and process the conditions.\"\"\"\n",
    "    contract_size = 100\n",
    "    trades_df['DATETIME'] = trades_df[DataType.DATE] + pd.TimedeltaIndex(trades_df[DataType.MS_OF_DAY], unit='ms')\n",
    "    trades_df['Value'] = trades_df.apply(lambda row: row[DataType.PRICE] * row[DataType.SIZE] * contract_size, axis=1)\n",
    "    trades_df['Volume_Order'] = trades_df[DataType.SIZE].rank(ascending=True, method='first')\n",
    "    trades_df.set_index('DATETIME', inplace=True)\n",
    "    trades_df.sort_index()\n",
    "\n",
    "    trade_cond = {x.value: x.name for x in TradeCondition}\n",
    "    exchanges = {x.value[0]: x.name for x in Exchange}\n",
    "\n",
    "    trades_df['Condition'] = trades_df.apply(lambda row: trade_cond[row[DataType.CONDITION]] if row[DataType.CONDITION] in trade_cond.keys() else trade_cond[-row[DataType.CONDITION]], axis=1)\n",
    "    trades_df['BID_EXCHANGE'] = trades_df.apply(lambda row: exchanges[row[DataType.BID_EXCHANGE]] if row[DataType.BID_EXCHANGE] in exchanges.keys() else exchanges[-row[DataType.BID_EXCHANGE]], axis=1)\n",
    "    trades_df['ASK_EXCHANGE'] = trades_df.apply(lambda row: exchanges[row[DataType.ASK_EXCHANGE]] if row[DataType.ASK_EXCHANGE] in exchanges.keys() else exchanges[-row[DataType.ASK_EXCHANGE]], axis=1)\n",
    "    \n",
    "    trades_df = trades_df.drop(columns=[DataType.MS_OF_DAY, DataType.MS_OF_DAY2, DataType.SEQUENCE, DataType.CONDITION, DataType.BID_EXCHANGE, DataType.ASK_EXCHANGE])\n",
    "    return trades_df"
   ]
  },
  {
   "cell_type": "markdown",
   "metadata": {},
   "source": []
  },
  {
   "cell_type": "markdown",
   "id": "6212b719",
   "metadata": {},
   "source": [
    "### Function to Get Expirations"
   ]
  },
  {
   "cell_type": "code",
   "execution_count": null,
   "id": "106c9e59",
   "metadata": {},
   "outputs": [],
   "source": [
    "def get_expirations(ticker) -> pd.DataFrame:\n",
    "    \"\"\"Request expirations dates from a some of the options root\"\"\"\n",
    "    client = ThetaClient(username=os.environ['thetadata_username'], passwd=os.environ['thetadata_password'], jvm_mem=4, timeout=15)\n",
    "    with client.connect():\n",
    "        data = client.get_expirations(root=ticker)\n",
    "    return data"
   ]
  },
  {
   "cell_type": "markdown",
   "id": "8c364f62",
   "metadata": {},
   "source": [
    "### Function to Get Strikes"
   ]
  },
  {
   "cell_type": "code",
   "execution_count": null,
   "id": "acefd89b",
   "metadata": {},
   "outputs": [],
   "source": [
    "def get_strikes(ticker, expiration_dates) -> dict:\n",
    "    \"\"\"Request strikes prices from a some of the option contract\"\"\"\n",
    "    client = ThetaClient(username=os.environ['thetadata_username'], passwd=os.environ['thetadata_password'], jvm_mem=4, timeout=15)\n",
    "    all_strikes = {}\n",
    "    with client.connect():\n",
    "        for exp_date in expiration_dates:\n",
    "            data = client.get_strikes(root=ticker, exp=exp_date)\n",
    "            all_strikes[exp_date] = pd.to_numeric(data)\n",
    "    return all_strikes"
   ]
  },
  {
   "cell_type": "markdown",
   "id": "3987bf88",
   "metadata": {},
   "source": [
    "### Function to Get Option Trades"
   ]
  },
  {
   "cell_type": "code",
   "execution_count": null,
   "id": "02b80411",
   "metadata": {},
   "outputs": [],
   "source": [
    "def get_option_trades(ticker, exp_date, strikes, start_date, end_date, interval_size=0, opt_type=OptionRight.CALL) -> pd.DataFrame:\n",
    "    \"\"\"Request trades for some of the contract's across a multiple of the strikes\"\"\"\n",
    "    client = ThetaClient(username=os.environ['thetadata_username'], passwd=os.environ['thetadata_password'], jvm_mem=12, timeout=30)\n",
    "    datas = {}\n",
    "    with client.connect():\n",
    "        for strike in strikes:\n",
    "            try:\n",
    "                data = client.get_hist_option(\n",
    "                    req=OptionReqType.TRADE_QUOTE,\n",
    "                    root=ticker,\n",
    "                    exp=exp_date,\n",
    "                    strike=strike,\n",
    "                    right=opt_type,\n",
    "                    date_range=DateRange(start_date, end_date),\n",
    "                    progress_bar=False,\n",
    "                    interval_size=interval_size\n",
    "                )\n",
    "                datas[strike] = data\n",
    "            except Exception as e:\n",
    "                datas[strike] = np.nan\n",
    "                print(e)\n",
    "    return datas"
   ]
  },
  {
   "cell_type": "markdown",
   "id": "a601167c",
   "metadata": {},
   "source": [
    "### Function to Process Trade Data"
   ]
  },
  {
   "cell_type": "code",
   "execution_count": null,
   "id": "f844ada4",
   "metadata": {},
   "outputs": [],
   "source": [
    "def process_trade_data(trades_df):\n",
    "    \"\"\"Preprocess the thetadata to have columns and process the conditions.\"\"\"\n",
    "    contract_size = 100\n",
    "    trades_df['DATETIME'] = trades_df[DataType.DATE] + pd.TimedeltaIndex(trades_df[DataType.MS_OF_DAY], unit='ms')\n",
    "    trades_df['Value'] = trades_df.apply(lambda row: row[DataType.PRICE] * row[DataType.SIZE] * contract_size, axis=1)\n",
    "    trades_df['Volume_Order'] = trades_df[DataType.SIZE].rank(ascending=True, method='first')\n",
    "    trades_df.set_index('DATETIME', inplace=True)\n",
    "    trades_df.sort_index()\n",
    "\n",
    "    trade_cond = {x.value: x.name for x in TradeCondition}\n",
    "    exchanges = {x.value[0]: x.name for x in Exchange}\n",
    "\n",
    "    trades_df['Condition'] = trades_df.apply(lambda row: trade_cond[row[DataType.CONDITION]] if row[DataType.CONDITION] in trade_cond.keys() else trade_cond[-row[DataType.CONDITION]], axis=1)\n",
    "    trades_df['BID_EXCHANGE'] = trades_df.apply(lambda row: exchanges[row[DataType.BID_EXCHANGE]] if row[DataType.BID_EXCHANGE] in exchanges.keys() else exchanges[-row[DataType.BID_EXCHANGE]], axis=1)\n",
    "    trades_df['ASK_EXCHANGE'] = trades_df.apply(lambda row: exchanges[row[DataType.ASK_EXCHANGE]] if row[DataType.ASK_EXCHANGE] in exchanges.keys() else exchanges[-row[DataType.ASK_EXCHANGE]], axis=1)\n",
    "    \n",
    "    trades_df = trades_df.drop(columns=[DataType.MS_OF_DAY, DataType.MS_OF_DAY2, DataType.SEQUENCE, DataType.CONDITION, DataType.BID_EXCHANGE, DataType.ASK_EXCHANGE])\n",
    "    return trades_df"
   ]
  },
  {
   "cell_type": "markdown",
   "id": "24c1adb4",
   "metadata": {},
   "source": []
  }
 ],
 "metadata": {
  "kernelspec": {
   "display_name": "Python 3",
   "language": "python",
   "name": "python3"
  },
  "language_info": {
   "codemirror_mode": {
    "name": "ipython",
    "version": 3
   },
   "file_extension": ".py",
   "mimetype": "text/x-python",
   "name": "python",
   "nbconvert_exporter": "python",
   "pygments_lexer": "ipython3",
   "version": "3.9.12"
  }
 },
 "nbformat": 4,
 "nbformat_minor": 5
}
